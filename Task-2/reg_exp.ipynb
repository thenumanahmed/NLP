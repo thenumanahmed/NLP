{
 "cells": [
  {
   "cell_type": "code",
   "execution_count": 2,
   "metadata": {
    "id": "2nj5Kdna4oSu"
   },
   "outputs": [],
   "source": [
    "import re"
   ]
  },
  {
   "cell_type": "code",
   "execution_count": 20,
   "metadata": {
    "id": "twEy8Gwe4quV"
   },
   "outputs": [],
   "source": [
    "sample_text = \"\"\"\n",
    "    Hello! You can contact me at john.doe@example.com or jane_doe123@sample.co.uk.\n",
    "    For urgent matters, call me at (123) 456-7890 or +1-234-567-8901.\n",
    "    Let's meet on 12/09/2023 or September 15, 2023.\n",
    "    #sample_text #nlp\n",
    "    Check out my website at https://www.example.com or http://blog.example.org.\n",
    "    Don't forget to follow our campaign #SaveTheEarth and #ClimateAction.\n",
    "\"\"\""
   ]
  },
  {
   "cell_type": "code",
   "execution_count": 21,
   "metadata": {
    "colab": {
     "base_uri": "https://localhost:8080/"
    },
    "id": "QSaHuKNZ4uu8",
    "outputId": "163336ee-2684-4033-c878-62bf00faa089"
   },
   "outputs": [
    {
     "name": "stdout",
     "output_type": "stream",
     "text": [
      "['H', 'e', 'l', 'l', 'o', '!', 'Y', 'o', 'u', 'c', 'a', 'n', 'c', 'o', 'n', 't', 'a', 'c', 't', 'm', 'e', 'a', 't', 'j', 'o', 'h', 'n', '.', 'd', 'o', 'e', '@', 'e', 'x', 'a', 'm', 'p', 'l', 'e', '.', 'c', 'o', 'm', 'o', 'r', 'j', 'a', 'n', 'e', '_', 'd', 'o', 'e', '1', '2', '3', '@', 's', 'a', 'm', 'p', 'l', 'e', '.', 'c', 'o', '.', 'u', 'k', '.', 'F', 'o', 'r', 'u', 'r', 'g', 'e', 'n', 't', 'm', 'a', 't', 't', 'e', 'r', 's', ',', 'c', 'a', 'l', 'l', 'm', 'e', 'a', 't', '(', '1', '2', '3', ')', '4', '5', '6', '-', '7', '8', '9', '0', 'o', 'r', '+', '1', '-', '2', '3', '4', '-', '5', '6', '7', '-', '8', '9', '0', '1', '.', 'L', 'e', 't', \"'\", 's', 'm', 'e', 'e', 't', 'o', 'n', '1', '2', '/', '0', '9', '/', '2', '0', '2', '3', 'o', 'r', 'S', 'e', 'p', 't', 'e', 'm', 'b', 'e', 'r', '1', '5', ',', '2', '0', '2', '3', '.', '#', 's', 'a', 'm', 'p', 'l', 'e', '_', 't', 'e', 'x', 't', '#', 'n', 'l', 'p', 'C', 'h', 'e', 'c', 'k', 'o', 'u', 't', 'm', 'y', 'w', 'e', 'b', 's', 'i', 't', 'e', 'a', 't', 'h', 't', 't', 'p', 's', ':', '/', '/', 'w', 'w', 'w', '.', 'e', 'x', 'a', 'm', 'p', 'l', 'e', '.', 'c', 'o', 'm', 'o', 'r', 'h', 't', 't', 'p', ':', '/', '/', 'b', 'l', 'o', 'g', '.', 'e', 'x', 'a', 'm', 'p', 'l', 'e', '.', 'o', 'r', 'g', '.', 'D', 'o', 'n', \"'\", 't', 'f', 'o', 'r', 'g', 'e', 't', 't', 'o', 'f', 'o', 'l', 'l', 'o', 'w', 'o', 'u', 'r', 'c', 'a', 'm', 'p', 'a', 'i', 'g', 'n', '#', 'S', 'a', 'v', 'e', 'T', 'h', 'e', 'E', 'a', 'r', 't', 'h', 'a', 'n', 'd', '#', 'C', 'l', 'i', 'm', 'a', 't', 'e', 'A', 'c', 't', 'i', 'o', 'n', '.']\n"
     ]
    }
   ],
   "source": [
    "# extracting individual char\n",
    "individual_character_pattern = '[\\S]' # \\S for any non whitespace char\n",
    "print(re.findall(individual_character_pattern, sample_text))"
   ]
  },
  {
   "cell_type": "code",
   "execution_count": 22,
   "metadata": {
    "colab": {
     "base_uri": "https://localhost:8080/"
    },
    "id": "4kE4mroq40kq",
    "outputId": "7102e07d-6088-4c6a-8c73-e70e4534a809"
   },
   "outputs": [
    {
     "name": "stdout",
     "output_type": "stream",
     "text": [
      "['Hello!', 'You', 'can', 'contact', 'me', 'at', 'john.doe@example.com', 'or', 'jane_doe123@sample.co.uk.', 'For', 'urgent', 'matters,', 'call', 'me', 'at', '(123)', '456-7890', 'or', '+1-234-567-8901.', \"Let's\", 'meet', 'on', '12/09/2023', 'or', 'September', '15,', '2023.', '#sample_text', '#nlp', 'Check', 'out', 'my', 'website', 'at', 'https://www.example.com', 'or', 'http://blog.example.org.', \"Don't\", 'forget', 'to', 'follow', 'our', 'campaign', '#SaveTheEarth', 'and', '#ClimateAction.']\n"
     ]
    }
   ],
   "source": [
    "# extracting individual words\n",
    "individual_word_pattern = '[\\S]+' # \\S for any non whitespace char\n",
    "print(re.findall(individual_word_pattern, sample_text))"
   ]
  },
  {
   "cell_type": "code",
   "execution_count": 23,
   "metadata": {
    "colab": {
     "base_uri": "https://localhost:8080/"
    },
    "collapsed": true,
    "id": "Yefxtqzh4540",
    "outputId": "f634771d-acfa-4bc2-e29a-468bad830b93"
   },
   "outputs": [
    {
     "data": {
      "text/plain": [
       "['Hello',\n",
       " 'contact',\n",
       " 'example',\n",
       " 'jane_doe123',\n",
       " 'sample',\n",
       " 'urgent',\n",
       " 'matters',\n",
       " 'September',\n",
       " 'sample_text',\n",
       " 'Check',\n",
       " 'website',\n",
       " 'https',\n",
       " 'example',\n",
       " 'example',\n",
       " 'forget',\n",
       " 'follow',\n",
       " 'campaign',\n",
       " 'SaveTheEarth',\n",
       " 'ClimateAction']"
      ]
     },
     "execution_count": 23,
     "metadata": {},
     "output_type": "execute_result"
    }
   ],
   "source": [
    "# words with more than 4 chars\n",
    "re.findall(r'\\b\\w{5,}\\b', sample_text)"
   ]
  },
  {
   "cell_type": "code",
   "execution_count": 24,
   "metadata": {
    "colab": {
     "base_uri": "https://localhost:8080/"
    },
    "id": "ANpIxiQT49v5",
    "outputId": "24f64f51-3600-4da5-9733-31395f54397a"
   },
   "outputs": [
    {
     "data": {
      "text/plain": [
       "['john.doe@example.com', 'jane_doe123@sample.co.uk.']"
      ]
     },
     "execution_count": 24,
     "metadata": {},
     "output_type": "execute_result"
    }
   ],
   "source": [
    "# extract emails\n",
    "re.findall(r'[a-zA-Z0-9_.+-]+@[a-zA-Z0-9-]+\\.[a-zA-Z0-9-.]+', sample_text)"
   ]
  },
  {
   "cell_type": "code",
   "execution_count": 25,
   "metadata": {
    "colab": {
     "base_uri": "https://localhost:8080/"
    },
    "id": "W5T4qIMv5N3H",
    "outputId": "91f0c9a2-b1f1-45f6-d787-cbcea10ca06d"
   },
   "outputs": [
    {
     "data": {
      "text/plain": [
       "['john.doe@example.com', 'jane_doe123@sample.co.uk']"
      ]
     },
     "execution_count": 25,
     "metadata": {},
     "output_type": "execute_result"
    }
   ],
   "source": [
    "# extract emails (.dot at the end also fixed)\n",
    "re.findall(r'\\b[a-zA-Z0-9_.+-]+@[a-zA-Z0-9-]+\\.[a-zA-Z0-9-.]+\\b', sample_text)"
   ]
  },
  {
   "cell_type": "code",
   "execution_count": 26,
   "metadata": {
    "colab": {
     "base_uri": "https://localhost:8080/"
    },
    "id": "pncv77Wn6hyU",
    "outputId": "b53b8890-331a-430d-f749-60a5f5905554"
   },
   "outputs": [
    {
     "data": {
      "text/plain": [
       "['#sample_text', '#nlp', '#SaveTheEarth', '#ClimateAction']"
      ]
     },
     "execution_count": 26,
     "metadata": {},
     "output_type": "execute_result"
    }
   ],
   "source": [
    "# extract hashtags\n",
    "re.findall(r'#\\w+', sample_text)"
   ]
  },
  {
   "cell_type": "code",
   "execution_count": 27,
   "metadata": {
    "colab": {
     "base_uri": "https://localhost:8080/",
     "height": 36
    },
    "id": "ezeRFlnk6xOR",
    "outputId": "daa7666e-1286-460e-c958-e6d062ce887c"
   },
   "outputs": [
    {
     "data": {
      "text/plain": [
       "'my email is abc78@***.***'"
      ]
     },
     "execution_count": 27,
     "metadata": {},
     "output_type": "execute_result"
    }
   ],
   "source": [
    "# censor/hide the sensitive info\n",
    "# hiding the emails\n",
    "text = \"my email is abc78@gmail.com\"\n",
    "text = re.sub(r'([a-zA-Z0-9_.+-]+)@([a-zA-Z0-9-]+)\\.([a-zA-Z0-9-.]+)', r'\\1@***.***', text)\n",
    "text"
   ]
  },
  {
   "cell_type": "code",
   "execution_count": 28,
   "metadata": {
    "colab": {
     "base_uri": "https://localhost:8080/"
    },
    "id": "JZxw8tmX8hAC",
    "outputId": "56347683-f50a-4c6e-d378-22443f59a1f6"
   },
   "outputs": [
    {
     "data": {
      "text/plain": [
       "['(123) 456-7890', '+1-234-567-8901']"
      ]
     },
     "execution_count": 28,
     "metadata": {},
     "output_type": "execute_result"
    }
   ],
   "source": [
    "# extract phone no\n",
    "re.findall(r'(?:\\+?\\d{1,3}[-.\\s]?)?(?:\\(?\\d{3}\\)?[-.\\s]?){2}\\d{4}', sample_text)"
   ]
  },
  {
   "cell_type": "code",
   "execution_count": 29,
   "metadata": {
    "colab": {
     "base_uri": "https://localhost:8080/"
    },
    "id": "ka7glc8Z_GHB",
    "outputId": "8de94dbd-e4c9-40dc-8154-887bca966f57"
   },
   "outputs": [
    {
     "name": "stdout",
     "output_type": "stream",
     "text": [
      "['+92321 4900000 ', '+92 321 4900 000 ', '0321 4900000', '0321 4900 000', '042 9381098', '042 9381 098']\n"
     ]
    }
   ],
   "source": [
    "text = \"\"\"\n",
    "+92321 4900000 is my phone num\n",
    "+92 321 4900 000 y = mx+c\n",
    "0321 4900000\n",
    "0321 4900 000\n",
    "042 9381098\n",
    "042 9381 098\n",
    "\"\"\"\n",
    "\n",
    "matches = re.findall( r'\\+?\\d+[ ?\\d+]+', text)\n",
    "print(matches)"
   ]
  },
  {
   "cell_type": "code",
   "execution_count": 31,
   "metadata": {
    "id": "uTZ48M9ef-qA"
   },
   "outputs": [
    {
     "data": {
      "text/plain": [
       "['The', 'the', 'the']"
      ]
     },
     "execution_count": 31,
     "metadata": {},
     "output_type": "execute_result"
    }
   ],
   "source": [
    "# extract the words \"the or The\"\n",
    "text2 =\"The recent attempt by the police to retain their current rates of pay has not gathered much favor with the southern factions.\"\n",
    "re.findall(r'\\b[tT]he\\b', text2)"
   ]
  },
  {
   "cell_type": "code",
   "execution_count": null,
   "metadata": {},
   "outputs": [],
   "source": []
  }
 ],
 "metadata": {
  "colab": {
   "provenance": []
  },
  "kernelspec": {
   "display_name": "base",
   "language": "python",
   "name": "python3"
  },
  "language_info": {
   "codemirror_mode": {
    "name": "ipython",
    "version": 3
   },
   "file_extension": ".py",
   "mimetype": "text/x-python",
   "name": "python",
   "nbconvert_exporter": "python",
   "pygments_lexer": "ipython3",
   "version": "3.11.5"
  }
 },
 "nbformat": 4,
 "nbformat_minor": 0
}
