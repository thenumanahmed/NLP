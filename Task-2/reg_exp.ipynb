{
  "nbformat": 4,
  "nbformat_minor": 0,
  "metadata": {
    "colab": {
      "provenance": []
    },
    "kernelspec": {
      "name": "python3",
      "display_name": "Python 3"
    },
    "language_info": {
      "name": "python"
    }
  },
  "cells": [
    {
      "cell_type": "code",
      "execution_count": 1,
      "metadata": {
        "id": "2nj5Kdna4oSu"
      },
      "outputs": [],
      "source": [
        "import re"
      ]
    },
    {
      "cell_type": "code",
      "source": [
        "sample_text = \"\"\"\n",
        "    Hello! You can contact me at john.doe@example.com or jane_doe123@sample.co.uk.\n",
        "    For urgent matters, call me at (123) 456-7890 or +1-234-567-8901.\n",
        "    Let's meet on 12/09/2023 or September 15, 2023.\n",
        "    #sample_text #nlp\n",
        "    Check out my website at https://www.example.com or http://blog.example.org.\n",
        "    Don't forget to follow our campaign #SaveTheEarth and #ClimateAction.\n",
        "\"\"\""
      ],
      "metadata": {
        "id": "twEy8Gwe4quV"
      },
      "execution_count": 16,
      "outputs": []
    },
    {
      "cell_type": "code",
      "source": [
        "# extracting individual char\n",
        "individual_character_pattern = '[\\S]' # \\S for any non whitespace char\n",
        "print(re.findall(individual_character_pattern, sample_text))"
      ],
      "metadata": {
        "colab": {
          "base_uri": "https://localhost:8080/"
        },
        "id": "QSaHuKNZ4uu8",
        "outputId": "cc6fef62-9aee-45f4-ed48-3b05d4990709"
      },
      "execution_count": 3,
      "outputs": [
        {
          "output_type": "stream",
          "name": "stdout",
          "text": [
            "['H', 'e', 'l', 'l', 'o', '!', 'Y', 'o', 'u', 'c', 'a', 'n', 'c', 'o', 'n', 't', 'a', 'c', 't', 'm', 'e', 'a', 't', 'j', 'o', 'h', 'n', '.', 'd', 'o', 'e', '@', 'e', 'x', 'a', 'm', 'p', 'l', 'e', '.', 'c', 'o', 'm', 'o', 'r', 'j', 'a', 'n', 'e', '_', 'd', 'o', 'e', '1', '2', '3', '@', 's', 'a', 'm', 'p', 'l', 'e', '.', 'c', 'o', '.', 'u', 'k', '.', 'F', 'o', 'r', 'u', 'r', 'g', 'e', 'n', 't', 'm', 'a', 't', 't', 'e', 'r', 's', ',', 'c', 'a', 'l', 'l', 'm', 'e', 'a', 't', '(', '1', '2', '3', ')', '4', '5', '6', '-', '7', '8', '9', '0', 'o', 'r', '+', '1', '-', '2', '3', '4', '-', '5', '6', '7', '-', '8', '9', '0', '1', '.', 'L', 'e', 't', \"'\", 's', 'm', 'e', 'e', 't', 'o', 'n', '1', '2', '/', '0', '9', '/', '2', '0', '2', '3', 'o', 'r', 'S', 'e', 'p', 't', 'e', 'm', 'b', 'e', 'r', '1', '5', ',', '2', '0', '2', '3', '.', 'C', 'h', 'e', 'c', 'k', 'o', 'u', 't', 'm', 'y', 'w', 'e', 'b', 's', 'i', 't', 'e', 'a', 't', 'h', 't', 't', 'p', 's', ':', '/', '/', 'w', 'w', 'w', '.', 'e', 'x', 'a', 'm', 'p', 'l', 'e', '.', 'c', 'o', 'm', 'o', 'r', 'h', 't', 't', 'p', ':', '/', '/', 'b', 'l', 'o', 'g', '.', 'e', 'x', 'a', 'm', 'p', 'l', 'e', '.', 'o', 'r', 'g', '.', 'D', 'o', 'n', \"'\", 't', 'f', 'o', 'r', 'g', 'e', 't', 't', 'o', 'f', 'o', 'l', 'l', 'o', 'w', 'o', 'u', 'r', 'c', 'a', 'm', 'p', 'a', 'i', 'g', 'n', '#', 'S', 'a', 'v', 'e', 'T', 'h', 'e', 'E', 'a', 'r', 't', 'h', 'a', 'n', 'd', '#', 'C', 'l', 'i', 'm', 'a', 't', 'e', 'A', 'c', 't', 'i', 'o', 'n', '.']\n"
          ]
        }
      ]
    },
    {
      "cell_type": "code",
      "source": [
        "# extracting individual words\n",
        "individual_word_pattern = '[\\S]+' # \\S for any non whitespace char\n",
        "print(re.findall(individual_word_pattern, sample_text))"
      ],
      "metadata": {
        "colab": {
          "base_uri": "https://localhost:8080/"
        },
        "id": "4kE4mroq40kq",
        "outputId": "1c70f96f-dceb-4686-a27e-9e7732da9d97"
      },
      "execution_count": 4,
      "outputs": [
        {
          "output_type": "stream",
          "name": "stdout",
          "text": [
            "['Hello!', 'You', 'can', 'contact', 'me', 'at', 'john.doe@example.com', 'or', 'jane_doe123@sample.co.uk.', 'For', 'urgent', 'matters,', 'call', 'me', 'at', '(123)', '456-7890', 'or', '+1-234-567-8901.', \"Let's\", 'meet', 'on', '12/09/2023', 'or', 'September', '15,', '2023.', 'Check', 'out', 'my', 'website', 'at', 'https://www.example.com', 'or', 'http://blog.example.org.', \"Don't\", 'forget', 'to', 'follow', 'our', 'campaign', '#SaveTheEarth', 'and', '#ClimateAction.']\n"
          ]
        }
      ]
    },
    {
      "cell_type": "code",
      "source": [
        "# words with more than 4 chars\n",
        "re.findall(r'\\b\\w{5,}\\b', sample_text)"
      ],
      "metadata": {
        "colab": {
          "base_uri": "https://localhost:8080/"
        },
        "collapsed": true,
        "id": "Yefxtqzh4540",
        "outputId": "a4de3a1e-a384-4edf-d71d-b593d8586243"
      },
      "execution_count": 6,
      "outputs": [
        {
          "output_type": "execute_result",
          "data": {
            "text/plain": [
              "['Hello',\n",
              " 'contact',\n",
              " 'example',\n",
              " 'jane_doe123',\n",
              " 'sample',\n",
              " 'urgent',\n",
              " 'matters',\n",
              " 'September',\n",
              " 'Check',\n",
              " 'website',\n",
              " 'https',\n",
              " 'example',\n",
              " 'example',\n",
              " 'forget',\n",
              " 'follow',\n",
              " 'campaign',\n",
              " 'SaveTheEarth',\n",
              " 'ClimateAction']"
            ]
          },
          "metadata": {},
          "execution_count": 6
        }
      ]
    },
    {
      "cell_type": "code",
      "source": [
        "# extract emails\n",
        "re.findall(r'[a-zA-Z0-9_.+-]+@[a-zA-Z0-9-]+\\.[a-zA-Z0-9-.]+', sample_text)"
      ],
      "metadata": {
        "colab": {
          "base_uri": "https://localhost:8080/"
        },
        "id": "ANpIxiQT49v5",
        "outputId": "3e2d279f-76e1-4e8b-aee3-1c1fe507c3dc"
      },
      "execution_count": 8,
      "outputs": [
        {
          "output_type": "execute_result",
          "data": {
            "text/plain": [
              "['john.doe@example.com', 'jane_doe123@sample.co.uk.']"
            ]
          },
          "metadata": {},
          "execution_count": 8
        }
      ]
    },
    {
      "cell_type": "code",
      "source": [
        "# extract emails (.dot at the end also fixed)\n",
        "re.findall(r'\\b[a-zA-Z0-9_.+-]+@[a-zA-Z0-9-]+\\.[a-zA-Z0-9-.]+\\b', sample_text)"
      ],
      "metadata": {
        "colab": {
          "base_uri": "https://localhost:8080/"
        },
        "id": "W5T4qIMv5N3H",
        "outputId": "0232b18a-4e21-4ce6-fbb1-159ce78147b2"
      },
      "execution_count": 10,
      "outputs": [
        {
          "output_type": "execute_result",
          "data": {
            "text/plain": [
              "['john.doe@example.com', 'jane_doe123@sample.co.uk']"
            ]
          },
          "metadata": {},
          "execution_count": 10
        }
      ]
    },
    {
      "cell_type": "code",
      "source": [
        "# extract hashtags\n",
        "re.findall(r'#\\w+', sample_text)"
      ],
      "metadata": {
        "colab": {
          "base_uri": "https://localhost:8080/"
        },
        "id": "pncv77Wn6hyU",
        "outputId": "0d9a262a-5ce2-4bdf-f8ea-f1f2b06580eb"
      },
      "execution_count": 17,
      "outputs": [
        {
          "output_type": "execute_result",
          "data": {
            "text/plain": [
              "['#sample_text', '#nlp', '#SaveTheEarth', '#ClimateAction']"
            ]
          },
          "metadata": {},
          "execution_count": 17
        }
      ]
    },
    {
      "cell_type": "code",
      "source": [
        "# censor/hide the sensitive info\n",
        "# hiding the emails\n",
        "text = \"my email is abc78@gmail.com\"\n",
        "text = re.sub(r'([a-zA-Z0-9_.+-]+)@([a-zA-Z0-9-]+)\\.([a-zA-Z0-9-.]+)', r'\\1@***.***', text)\n",
        "text"
      ],
      "metadata": {
        "colab": {
          "base_uri": "https://localhost:8080/",
          "height": 36
        },
        "id": "ezeRFlnk6xOR",
        "outputId": "494bc227-2846-44f3-fab6-9e7838c95195"
      },
      "execution_count": 19,
      "outputs": [
        {
          "output_type": "execute_result",
          "data": {
            "text/plain": [
              "'my email is abc78@***.***'"
            ],
            "application/vnd.google.colaboratory.intrinsic+json": {
              "type": "string"
            }
          },
          "metadata": {},
          "execution_count": 19
        }
      ]
    },
    {
      "cell_type": "code",
      "source": [
        "# extract phone nos (not well , missing 1st parenthesis)\n",
        "re.findall(r'\\b(?:\\+?\\d{1,3}[-.\\s]?)?(?:\\(?\\d{3}\\)?[-.\\s]?){2}\\d{4}\\b', sample_text)"
      ],
      "metadata": {
        "colab": {
          "base_uri": "https://localhost:8080/"
        },
        "id": "JZxw8tmX8hAC",
        "outputId": "52635f44-c74d-46e7-b7c8-f3850ea1933e"
      },
      "execution_count": 32,
      "outputs": [
        {
          "output_type": "execute_result",
          "data": {
            "text/plain": [
              "['123) 456-7890', '1-234-567-8901']"
            ]
          },
          "metadata": {},
          "execution_count": 32
        }
      ]
    },
    {
      "cell_type": "code",
      "source": [],
      "metadata": {
        "id": "ka7glc8Z_GHB"
      },
      "execution_count": null,
      "outputs": []
    }
  ]
}