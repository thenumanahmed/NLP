{
  "cells": [
    {
      "cell_type": "code",
      "execution_count": 2,
      "metadata": {
        "colab": {
          "base_uri": "https://localhost:8080/"
        },
        "id": "7XTh-xBtsddi",
        "outputId": "4c9ea4bc-bb54-457c-b86f-04ab2decdd08"
      },
      "outputs": [
        {
          "name": "stderr",
          "output_type": "stream",
          "text": [
            "[nltk_data] Downloading package stopwords to /root/nltk_data...\n",
            "[nltk_data]   Package stopwords is already up-to-date!\n",
            "[nltk_data] Downloading package punkt to /root/nltk_data...\n",
            "[nltk_data]   Package punkt is already up-to-date!\n"
          ]
        },
        {
          "data": {
            "text/plain": [
              "True"
            ]
          },
          "execution_count": 2,
          "metadata": {},
          "output_type": "execute_result"
        }
      ],
      "source": [
        "import nltk\n",
        "from nltk.corpus import stopwords\n",
        "from nltk.tokenize import word_tokenize\n",
        "\n",
        "nltk.download('stopwords')\n",
        "nltk.download('punkt') # for intelligent tokenizing"
      ]
    },
    {
      "cell_type": "code",
      "execution_count": 5,
      "metadata": {
        "colab": {
          "base_uri": "https://localhost:8080/"
        },
        "id": "dV8ja3a3QyRB",
        "outputId": "3503f5ca-4984-40a2-fe72-362add5e0dc7"
      },
      "outputs": [
        {
          "name": "stdout",
          "output_type": "stream",
          "text": [
            "Unfiltered document: This is an example document with some stop words that need to be removed.\n",
            "Filtered document: example document stop words need removed .\n"
          ]
        }
      ],
      "source": [
        "# Sample document\n",
        "doc = \"This is an example document with some stop words that need to be removed.\"\n",
        "\n",
        "words = word_tokenize(doc)\n",
        "\n",
        "# Get the stop words for the English language\n",
        "stop_words = set(stopwords.words('english'))\n",
        "\n",
        "# Removing stop words\n",
        "filtered_doc = [word for word in words if word.lower() not in stop_words]\n",
        "\n",
        "# list of words to string\n",
        "filtered_doc_str = ' '.join(filtered_doc)\n",
        "\n",
        "print(\"Unfiltered document:\", doc)\n",
        "print(\"Filtered document:\", filtered_doc_str)\n"
      ]
    },
    {
      "cell_type": "code",
      "execution_count": null,
      "metadata": {
        "id": "Sx1dKqO2sCNx"
      },
      "outputs": [],
      "source": []
    }
  ],
  "metadata": {
    "colab": {
      "provenance": []
    },
    "kernelspec": {
      "display_name": "Python 3",
      "name": "python3"
    },
    "language_info": {
      "name": "python"
    }
  },
  "nbformat": 4,
  "nbformat_minor": 0
}
